{
  "nbformat": 4,
  "nbformat_minor": 0,
  "metadata": {
    "kernelspec": {
      "display_name": "Python 3",
      "language": "python",
      "name": "python3"
    },
    "language_info": {
      "codemirror_mode": {
        "name": "ipython",
        "version": 3
      },
      "file_extension": ".py",
      "mimetype": "text/x-python",
      "name": "python",
      "nbconvert_exporter": "python",
      "pygments_lexer": "ipython3",
      "version": "3.6.8"
    },
    "colab": {
      "provenance": [],
      "include_colab_link": true
    },
    "accelerator": "GPU"
  },
  "cells": [
    {
      "cell_type": "markdown",
      "metadata": {
        "id": "view-in-github",
        "colab_type": "text"
      },
      "source": [
        "<a href=\"https://colab.research.google.com/github/cu2mauro/NN_matlab_bubble/blob/colabwork/ColabCNN.ipynb\" target=\"_parent\"><img src=\"https://colab.research.google.com/assets/colab-badge.svg\" alt=\"Open In Colab\"/></a>"
      ]
    },
    {
      "cell_type": "markdown",
      "metadata": {
        "id": "UWgL8BGyhu9x"
      },
      "source": [
        "# Convolutional Neural Network to classify MATLAB bubble results\n",
        "\n",
        "To build, train and test the CNN we use keras with the tensorflow backend.\n",
        "Below we import the necessary modules."
      ]
    },
    {
      "cell_type": "code",
      "metadata": {
        "id": "TjQl_va0hu99"
      },
      "source": [
        "import numpy as np #numerical\n",
        "import pandas as pd #data analysis\n",
        "from sklearn.model_selection import train_test_split\n",
        "from skimage.transform import resize\n",
        "from tqdm import tqdm\n",
        "import matplotlib.pyplot as plt\n",
        "import random\n",
        "import scipy.io as sio\n",
        "from scipy import interpolate\n",
        "from scipy.interpolate import BSpline, make_interp_spline\n",
        "import sys\n",
        "%matplotlib inline\n",
        "import keras\n",
        "from keras.models import Sequential, load_model\n",
        "from keras.layers import Dense, Dropout, Flatten\n",
        "from keras.layers import Conv2D, MaxPooling2D\n",
        "from keras import backend as K\n",
        "from os.path import dirname, join as pjoin"
      ],
      "execution_count": 177,
      "outputs": []
    },
    {
      "cell_type": "code",
      "source": [
        "from google.colab import drive\n",
        "drive.mount('/content/drive');"
      ],
      "metadata": {
        "id": "NHTjLP7mzU7J"
      },
      "execution_count": null,
      "outputs": []
    },
    {
      "cell_type": "markdown",
      "metadata": {
        "id": "j6AE5_R5hu-C"
      },
      "source": [
        "Load dataset: vectors of control points in X, actions in y."
      ]
    },
    {
      "cell_type": "code",
      "metadata": {
        "id": "ima-_Vzvhu-C"
      },
      "source": [
        "mat = sio.loadmat('/content/drive/MyDrive/NN/NNtot')\n",
        "data = mat['results']\n",
        "X = np.reshape(np.vstack(data[:,0][:]),(len(data),12))\n",
        "y = np.vstack(data[:,3][:])\n",
        "X = np.expand_dims(np.reshape(np.c_[np.zeros(len(y)),X,np.zeros(len(y))],(len(y),2,7)), axis=3) # add zeros for first X and last Y coordinates, reshape"
      ],
      "execution_count": 183,
      "outputs": []
    },
    {
      "cell_type": "code",
      "source": [
        "print(X.shape,y.shape)"
      ],
      "metadata": {
        "id": "gQ7KFPQc0M-D",
        "outputId": "819ebe44-152c-45e1-cb5c-f653c60d136d",
        "colab": {
          "base_uri": "https://localhost:8080/"
        }
      },
      "execution_count": 199,
      "outputs": [
        {
          "output_type": "stream",
          "name": "stdout",
          "text": [
            "(3501, 2, 7, 1) (3501, 1)\n"
          ]
        }
      ]
    },
    {
      "cell_type": "markdown",
      "metadata": {
        "id": "IocCrGachu-E"
      },
      "source": [
        "Divide dataset into training (80%), validation (10%) and test set (10%)\n",
        "\n"
      ]
    },
    {
      "cell_type": "code",
      "metadata": {
        "id": "4j-mfVmFhu-F"
      },
      "source": [
        "Ntot = len(X)\n",
        "tot_ind = np.arange(Ntot)\n",
        "random.shuffle(tot_ind)\n",
        "val_ind = tot_ind[int(Ntot*0.8):int(Ntot*0.9)]\n",
        "train_ind = tot_ind[0:int(Ntot*0.8)]\n",
        "test_ind = tot_ind[int(Ntot*0.9):]"
      ],
      "execution_count": 200,
      "outputs": []
    },
    {
      "cell_type": "code",
      "metadata": {
        "id": "UddwSwxyhu-F"
      },
      "source": [
        "X_train = X[train_ind]\n",
        "y_train = y[train_ind]\n",
        "X_val = X[val_ind]\n",
        "y_val = y[val_ind]\n",
        "X_test = X[test_ind]\n",
        "y_test = y[test_ind]"
      ],
      "execution_count": 201,
      "outputs": []
    },
    {
      "cell_type": "code",
      "source": [
        "X_train.shape"
      ],
      "metadata": {
        "colab": {
          "base_uri": "https://localhost:8080/"
        },
        "id": "LWAQzdVWL-AT",
        "outputId": "d3e899ec-61bf-48d0-aeea-6c2bab84f1f9"
      },
      "execution_count": 202,
      "outputs": [
        {
          "output_type": "execute_result",
          "data": {
            "text/plain": [
              "(2800, 2, 7, 1)"
            ]
          },
          "metadata": {},
          "execution_count": 202
        }
      ]
    },
    {
      "cell_type": "markdown",
      "source": [
        "What is our data: show border spline-curve control points, domain, and corresponding action"
      ],
      "metadata": {
        "id": "24nAo3u1fpS9"
      }
    },
    {
      "cell_type": "code",
      "source": [
        "t = np.random.randint(len(X))\n",
        "plt.scatter(np.transpose(data[t,1]['Points'][0][0])[0],np.transpose(data[t,1]['Points'][0][0])[1])\n",
        "plt.scatter(X[t][0],X[t][1])\n",
        "plt.plot(X[t][0],X[t][1],'r')\n",
        "S = 'S='+str(y[t][0])\n",
        "plt.title(S);\n",
        "plt.show()"
      ],
      "metadata": {
        "id": "cfKc_2jiVUpf",
        "outputId": "3616c6db-f3bb-4f91-d59c-37fbf9ef1953",
        "colab": {
          "base_uri": "https://localhost:8080/",
          "height": 452
        }
      },
      "execution_count": 203,
      "outputs": [
        {
          "output_type": "display_data",
          "data": {
            "text/plain": [
              "<Figure size 640x480 with 1 Axes>"
            ],
            "image/png": "[encoded data removed]"
          },
          "metadata": {}
        }
      ]
    },
    {
      "cell_type": "markdown",
      "metadata": {
        "id": "cxsgVwQ8hu-G"
      },
      "source": [
        "Build the CNN, compile and train/validate it"
      ]
    },
    {
      "cell_type": "code",
      "metadata": {
        "id": "XSVdhMqwhu-G"
      },
      "source": [
        "model = Sequential()\n",
        "model.add(Conv2D(2, (2, 2), activation='relu', input_shape=(2, 7, 1), padding='same'))\n",
        "model.add(Conv2D(4, (2, 2), activation='relu', padding='same'))\n",
        "model.add(Conv2D(16, (2, 2), activation='relu'))\n",
        "model.add(Flatten())\n",
        "model.add(Dense(48, activation='relu'))\n",
        "model.add(Dropout(0.8))\n",
        "model.add(Dense(1))"
      ],
      "execution_count": 224,
      "outputs": []
    },
    {
      "cell_type": "code",
      "metadata": {
        "colab": {
          "base_uri": "https://localhost:8080/"
        },
        "id": "ydIT0bwGhu-H",
        "outputId": "97e850fb-4722-42e5-e284-a09ea80b8a37"
      },
      "source": [
        "model.summary()"
      ],
      "execution_count": 225,
      "outputs": [
        {
          "output_type": "stream",
          "name": "stdout",
          "text": [
            "Model: \"sequential_18\"\n",
            "_________________________________________________________________\n",
            " Layer (type)                Output Shape              Param #   \n",
            "=================================================================\n",
            " conv2d_54 (Conv2D)          (None, 2, 7, 2)           10        \n",
            "                                                                 \n",
            " conv2d_55 (Conv2D)          (None, 2, 7, 4)           36        \n",
            "                                                                 \n",
            " conv2d_56 (Conv2D)          (None, 1, 6, 16)          272       \n",
            "                                                                 \n",
            " flatten_14 (Flatten)        (None, 96)                0         \n",
            "                                                                 \n",
            " dense_29 (Dense)            (None, 48)                4656      \n",
            "                                                                 \n",
            " dropout_14 (Dropout)        (None, 48)                0         \n",
            "                                                                 \n",
            " dense_30 (Dense)            (None, 1)                 49        \n",
            "                                                                 \n",
            "=================================================================\n",
            "Total params: 5023 (19.62 KB)\n",
            "Trainable params: 5023 (19.62 KB)\n",
            "Non-trainable params: 0 (0.00 Byte)\n",
            "_________________________________________________________________\n"
          ]
        }
      ]
    },
    {
      "cell_type": "markdown",
      "metadata": {
        "id": "4F6-rRerhu-I"
      },
      "source": [
        "**Note:** training should be done on GPUs, if you are not running on GPUs skip this part and load the pretrained model"
      ]
    },
    {
      "cell_type": "code",
      "metadata": {
        "scrolled": true,
        "colab": {
          "base_uri": "https://localhost:8080/"
        },
        "id": "zJgMiL6Hhu-I",
        "outputId": "da4f70bd-1318-4ceb-ded7-d1a10d87ea6f"
      },
      "source": [
        "model.compile(loss=keras.losses.MeanSquaredError())\n",
        "\n",
        "cnn_history = model.fit(X_train, y_train,\n",
        "                        batch_size=64,\n",
        "                        epochs=100,\n",
        "                        verbose=1,\n",
        "                        validation_data=(X_val, y_val))"
      ],
      "execution_count": 226,
      "outputs": [
        {
          "output_type": "stream",
          "name": "stdout",
          "text": [
            "Epoch 1/100\n",
            "44/44 [==============================] - 4s 20ms/step - loss: 1221014.2500 - val_loss: 145475.4844\n",
            "Epoch 2/100\n",
            "44/44 [==============================] - 0s 7ms/step - loss: 1221010.8750 - val_loss: 145472.8125\n",
            "Epoch 3/100\n",
            "44/44 [==============================] - 0s 7ms/step - loss: 1221002.7500 - val_loss: 145469.4688\n",
            "Epoch 4/100\n",
            "44/44 [==============================] - 0s 5ms/step - loss: 1220998.2500 - val_loss: 145465.4219\n",
            "Epoch 5/100\n",
            "44/44 [==============================] - 0s 5ms/step - loss: 1220985.1250 - val_loss: 145460.6875\n",
            "Epoch 6/100\n",
            "44/44 [==============================] - 0s 5ms/step - loss: 1220981.5000 - val_loss: 145454.3281\n",
            "Epoch 7/100\n",
            "44/44 [==============================] - 0s 5ms/step - loss: 1220961.5000 - val_loss: 145445.5938\n",
            "Epoch 8/100\n",
            "44/44 [==============================] - 0s 5ms/step - loss: 1220924.7500 - val_loss: 145435.5625\n",
            "Epoch 9/100\n",
            "44/44 [==============================] - 0s 5ms/step - loss: 1220926.5000 - val_loss: 145423.2188\n",
            "Epoch 10/100\n",
            "44/44 [==============================] - 0s 5ms/step - loss: 1220891.3750 - val_loss: 145403.4219\n",
            "Epoch 11/100\n",
            "44/44 [==============================] - 0s 4ms/step - loss: 1220829.1250 - val_loss: 145388.6719\n",
            "Epoch 12/100\n",
            "44/44 [==============================] - 0s 4ms/step - loss: 1220793.7500 - val_loss: 145367.9062\n",
            "Epoch 13/100\n",
            "44/44 [==============================] - 0s 4ms/step - loss: 1220717.8750 - val_loss: 145345.9531\n",
            "Epoch 14/100\n",
            "44/44 [==============================] - 0s 4ms/step - loss: 1220770.5000 - val_loss: 145320.8750\n",
            "Epoch 15/100\n",
            "44/44 [==============================] - 0s 5ms/step - loss: 1220594.8750 - val_loss: 145295.4688\n",
            "Epoch 16/100\n",
            "44/44 [==============================] - 0s 5ms/step - loss: 1220564.7500 - val_loss: 145272.2969\n",
            "Epoch 17/100\n",
            "44/44 [==============================] - 0s 5ms/step - loss: 1220463.5000 - val_loss: 145235.4531\n",
            "Epoch 18/100\n",
            "44/44 [==============================] - 0s 4ms/step - loss: 1220555.1250 - val_loss: 145201.2812\n",
            "Epoch 19/100\n",
            "44/44 [==============================] - 0s 5ms/step - loss: 1220505.5000 - val_loss: 145167.2969\n",
            "Epoch 20/100\n",
            "44/44 [==============================] - 0s 4ms/step - loss: 1220350.7500 - val_loss: 145122.6094\n",
            "Epoch 21/100\n",
            "44/44 [==============================] - 0s 4ms/step - loss: 1220368.2500 - val_loss: 145077.2344\n",
            "Epoch 22/100\n",
            "44/44 [==============================] - 0s 4ms/step - loss: 1220096.2500 - val_loss: 145037.2500\n",
            "Epoch 23/100\n",
            "44/44 [==============================] - 0s 4ms/step - loss: 1220212.5000 - val_loss: 145006.1250\n",
            "Epoch 24/100\n",
            "44/44 [==============================] - 0s 5ms/step - loss: 1220114.1250 - val_loss: 144965.7656\n",
            "Epoch 25/100\n",
            "44/44 [==============================] - 0s 5ms/step - loss: 1219885.2500 - val_loss: 144927.6875\n",
            "Epoch 26/100\n",
            "44/44 [==============================] - 0s 4ms/step - loss: 1220104.3750 - val_loss: 144900.7656\n",
            "Epoch 27/100\n",
            "44/44 [==============================] - 0s 4ms/step - loss: 1220239.0000 - val_loss: 144886.9531\n",
            "Epoch 28/100\n",
            "44/44 [==============================] - 0s 5ms/step - loss: 1220234.7500 - val_loss: 144874.6250\n",
            "Epoch 29/100\n",
            "44/44 [==============================] - 0s 4ms/step - loss: 1219318.5000 - val_loss: 144849.0469\n",
            "Epoch 30/100\n",
            "44/44 [==============================] - 0s 5ms/step - loss: 1219089.7500 - val_loss: 144809.5312\n",
            "Epoch 31/100\n",
            "44/44 [==============================] - 0s 4ms/step - loss: 1219265.2500 - val_loss: 144790.6094\n",
            "Epoch 32/100\n",
            "44/44 [==============================] - 0s 5ms/step - loss: 1219341.3750 - val_loss: 144758.3281\n",
            "Epoch 33/100\n",
            "44/44 [==============================] - 0s 4ms/step - loss: 1219559.0000 - val_loss: 144734.7031\n",
            "Epoch 34/100\n",
            "44/44 [==============================] - 0s 4ms/step - loss: 1220182.2500 - val_loss: 144726.3594\n",
            "Epoch 35/100\n",
            "44/44 [==============================] - 0s 5ms/step - loss: 1219943.0000 - val_loss: 144717.1406\n",
            "Epoch 36/100\n",
            "44/44 [==============================] - 0s 4ms/step - loss: 1219165.2500 - val_loss: 144713.5938\n",
            "Epoch 37/100\n",
            "44/44 [==============================] - 0s 5ms/step - loss: 1218532.6250 - val_loss: 144698.2812\n",
            "Epoch 38/100\n",
            "44/44 [==============================] - 0s 5ms/step - loss: 1218680.5000 - val_loss: 144674.0938\n",
            "Epoch 39/100\n",
            "44/44 [==============================] - 0s 4ms/step - loss: 1218944.3750 - val_loss: 144661.0000\n",
            "Epoch 40/100\n",
            "44/44 [==============================] - 0s 5ms/step - loss: 1218840.2500 - val_loss: 144675.9688\n",
            "Epoch 41/100\n",
            "44/44 [==============================] - 0s 5ms/step - loss: 1217750.8750 - val_loss: 144651.4688\n",
            "Epoch 42/100\n",
            "44/44 [==============================] - 0s 5ms/step - loss: 1218310.1250 - val_loss: 144640.2344\n",
            "Epoch 43/100\n",
            "44/44 [==============================] - 0s 5ms/step - loss: 1219592.6250 - val_loss: 144653.9844\n",
            "Epoch 44/100\n",
            "44/44 [==============================] - 0s 5ms/step - loss: 1219187.8750 - val_loss: 144643.4219\n",
            "Epoch 45/100\n",
            "44/44 [==============================] - 0s 5ms/step - loss: 1218645.6250 - val_loss: 144627.8594\n",
            "Epoch 46/100\n",
            "44/44 [==============================] - 0s 4ms/step - loss: 1219211.2500 - val_loss: 144627.2656\n",
            "Epoch 47/100\n",
            "44/44 [==============================] - 0s 5ms/step - loss: 1218940.5000 - val_loss: 144629.2812\n",
            "Epoch 48/100\n",
            "44/44 [==============================] - 0s 4ms/step - loss: 1218288.2500 - val_loss: 144618.9688\n",
            "Epoch 49/100\n",
            "44/44 [==============================] - 0s 5ms/step - loss: 1219222.5000 - val_loss: 144624.2500\n",
            "Epoch 50/100\n",
            "44/44 [==============================] - 0s 5ms/step - loss: 1218869.5000 - val_loss: 144618.4062\n",
            "Epoch 51/100\n",
            "44/44 [==============================] - 0s 4ms/step - loss: 1218416.5000 - val_loss: 144611.3438\n",
            "Epoch 52/100\n",
            "44/44 [==============================] - 0s 5ms/step - loss: 1219597.0000 - val_loss: 144621.4688\n",
            "Epoch 53/100\n",
            "44/44 [==============================] - 0s 7ms/step - loss: 1218617.0000 - val_loss: 144611.7188\n",
            "Epoch 54/100\n",
            "44/44 [==============================] - 0s 7ms/step - loss: 1219521.0000 - val_loss: 144607.8750\n",
            "Epoch 55/100\n",
            "44/44 [==============================] - 0s 6ms/step - loss: 1218666.0000 - val_loss: 144612.0156\n",
            "Epoch 56/100\n",
            "44/44 [==============================] - 0s 6ms/step - loss: 1218125.8750 - val_loss: 144601.9375\n",
            "Epoch 57/100\n",
            "44/44 [==============================] - 0s 7ms/step - loss: 1218854.1250 - val_loss: 144608.2188\n",
            "Epoch 58/100\n",
            "44/44 [==============================] - 0s 7ms/step - loss: 1218032.0000 - val_loss: 144598.9219\n",
            "Epoch 59/100\n",
            "44/44 [==============================] - 0s 6ms/step - loss: 1219180.3750 - val_loss: 144599.1250\n",
            "Epoch 60/100\n",
            "44/44 [==============================] - 0s 6ms/step - loss: 1220353.5000 - val_loss: 144620.1250\n",
            "Epoch 61/100\n",
            "44/44 [==============================] - 0s 6ms/step - loss: 1219010.8750 - val_loss: 144609.8281\n",
            "Epoch 62/100\n",
            "44/44 [==============================] - 0s 6ms/step - loss: 1217942.6250 - val_loss: 144598.3438\n",
            "Epoch 63/100\n",
            "44/44 [==============================] - 0s 6ms/step - loss: 1218305.8750 - val_loss: 144596.3594\n",
            "Epoch 64/100\n",
            "44/44 [==============================] - 0s 6ms/step - loss: 1219560.0000 - val_loss: 144612.9844\n",
            "Epoch 65/100\n",
            "44/44 [==============================] - 0s 6ms/step - loss: 1220102.0000 - val_loss: 144631.7500\n",
            "Epoch 66/100\n",
            "44/44 [==============================] - 0s 7ms/step - loss: 1218773.6250 - val_loss: 144617.6719\n",
            "Epoch 67/100\n",
            "44/44 [==============================] - 0s 6ms/step - loss: 1219766.8750 - val_loss: 144620.2031\n",
            "Epoch 68/100\n",
            "44/44 [==============================] - 0s 6ms/step - loss: 1218333.0000 - val_loss: 144612.9375\n",
            "Epoch 69/100\n",
            "44/44 [==============================] - 0s 6ms/step - loss: 1220293.5000 - val_loss: 144619.3125\n",
            "Epoch 70/100\n",
            "44/44 [==============================] - 0s 7ms/step - loss: 1219166.3750 - val_loss: 144614.1406\n",
            "Epoch 71/100\n",
            "44/44 [==============================] - 0s 6ms/step - loss: 1218754.0000 - val_loss: 144607.7969\n",
            "Epoch 72/100\n",
            "44/44 [==============================] - 0s 6ms/step - loss: 1219260.5000 - val_loss: 144601.1250\n",
            "Epoch 73/100\n",
            "44/44 [==============================] - 0s 4ms/step - loss: 1218669.0000 - val_loss: 144599.3906\n",
            "Epoch 74/100\n",
            "44/44 [==============================] - 0s 5ms/step - loss: 1219257.7500 - val_loss: 144596.0625\n",
            "Epoch 75/100\n",
            "44/44 [==============================] - 0s 4ms/step - loss: 1218942.7500 - val_loss: 144591.6562\n",
            "Epoch 76/100\n",
            "44/44 [==============================] - 0s 4ms/step - loss: 1219249.7500 - val_loss: 144584.2031\n",
            "Epoch 77/100\n",
            "44/44 [==============================] - 0s 5ms/step - loss: 1218481.7500 - val_loss: 144581.6875\n",
            "Epoch 78/100\n",
            "44/44 [==============================] - 0s 4ms/step - loss: 1219196.0000 - val_loss: 144573.9531\n",
            "Epoch 79/100\n",
            "44/44 [==============================] - 0s 5ms/step - loss: 1217552.6250 - val_loss: 144558.6719\n",
            "Epoch 80/100\n",
            "44/44 [==============================] - 0s 4ms/step - loss: 1217901.0000 - val_loss: 144550.3281\n",
            "Epoch 81/100\n",
            "44/44 [==============================] - 0s 4ms/step - loss: 1218560.8750 - val_loss: 144543.0469\n",
            "Epoch 82/100\n",
            "44/44 [==============================] - 0s 4ms/step - loss: 1219099.5000 - val_loss: 144549.8125\n",
            "Epoch 83/100\n",
            "44/44 [==============================] - 0s 4ms/step - loss: 1218195.2500 - val_loss: 144539.9531\n",
            "Epoch 84/100\n",
            "44/44 [==============================] - 0s 4ms/step - loss: 1219109.5000 - val_loss: 144536.3594\n",
            "Epoch 85/100\n",
            "44/44 [==============================] - 0s 4ms/step - loss: 1218635.5000 - val_loss: 144535.2500\n",
            "Epoch 86/100\n",
            "44/44 [==============================] - 0s 4ms/step - loss: 1218386.6250 - val_loss: 144532.4375\n",
            "Epoch 87/100\n",
            "44/44 [==============================] - 0s 5ms/step - loss: 1218102.3750 - val_loss: 144517.9375\n",
            "Epoch 88/100\n",
            "44/44 [==============================] - 0s 5ms/step - loss: 1218992.6250 - val_loss: 144521.9375\n",
            "Epoch 89/100\n",
            "44/44 [==============================] - 0s 4ms/step - loss: 1218856.3750 - val_loss: 144519.8438\n",
            "Epoch 90/100\n",
            "44/44 [==============================] - 0s 4ms/step - loss: 1218468.6250 - val_loss: 144506.0625\n",
            "Epoch 91/100\n",
            "44/44 [==============================] - 0s 4ms/step - loss: 1219635.3750 - val_loss: 144497.7812\n",
            "Epoch 92/100\n",
            "44/44 [==============================] - 0s 5ms/step - loss: 1218794.3750 - val_loss: 144488.1875\n",
            "Epoch 93/100\n",
            "44/44 [==============================] - 0s 5ms/step - loss: 1218474.3750 - val_loss: 144486.3594\n",
            "Epoch 94/100\n",
            "44/44 [==============================] - 0s 5ms/step - loss: 1218667.7500 - val_loss: 144474.7500\n",
            "Epoch 95/100\n",
            "44/44 [==============================] - 0s 5ms/step - loss: 1217323.3750 - val_loss: 144449.9375\n",
            "Epoch 96/100\n",
            "44/44 [==============================] - 0s 4ms/step - loss: 1219352.0000 - val_loss: 144444.5938\n",
            "Epoch 97/100\n",
            "44/44 [==============================] - 0s 4ms/step - loss: 1217147.2500 - val_loss: 144417.2344\n",
            "Epoch 98/100\n",
            "44/44 [==============================] - 0s 5ms/step - loss: 1217640.3750 - val_loss: 144412.3438\n",
            "Epoch 99/100\n",
            "44/44 [==============================] - 0s 4ms/step - loss: 1217843.6250 - val_loss: 144389.0000\n",
            "Epoch 100/100\n",
            "44/44 [==============================] - 0s 4ms/step - loss: 1217853.1250 - val_loss: 144373.3438\n"
          ]
        }
      ]
    },
    {
      "cell_type": "code",
      "metadata": {
        "colab": {
          "base_uri": "https://localhost:8080/"
        },
        "id": "1pxXAFTlhu-J",
        "outputId": "5bdf460c-c83c-4186-83a1-b1846b24dd18"
      },
      "source": [
        "score = model.evaluate(X_test, y_test, verbose=0)\n",
        "print('Test accuracy:', score)\n",
        "y_pred_cnn2 = model.predict(X_test)"
      ],
      "execution_count": 229,
      "outputs": [
        {
          "output_type": "stream",
          "name": "stdout",
          "text": [
            "Test accuracy: 180930.375\n",
            "11/11 [==============================] - 0s 3ms/step\n"
          ]
        }
      ]
    }
  ]
}