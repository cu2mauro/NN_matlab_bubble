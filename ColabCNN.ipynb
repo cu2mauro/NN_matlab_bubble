{
  "nbformat": 4,
  "nbformat_minor": 0,
  "metadata": {
    "kernelspec": {
      "display_name": "Python 3",
      "language": "python",
      "name": "python3"
    },
    "language_info": {
      "codemirror_mode": {
        "name": "ipython",
        "version": 3
      },
      "file_extension": ".py",
      "mimetype": "text/x-python",
      "name": "python",
      "nbconvert_exporter": "python",
      "pygments_lexer": "ipython3",
      "version": "3.6.8"
    },
    "colab": {
      "provenance": [],
      "include_colab_link": true
    },
    "accelerator": "GPU"
  },
  "cells": [
    {
      "cell_type": "markdown",
      "metadata": {
        "id": "view-in-github",
        "colab_type": "text"
      },
      "source": [
        "<a href=\"https://colab.research.google.com/github/cu2mauro/NN_matlab_bubble/blob/colabwork/ColabCNN.ipynb\" target=\"_parent\"><img src=\"https://colab.research.google.com/assets/colab-badge.svg\" alt=\"Open In Colab\"/></a>"
      ]
    },
    {
      "cell_type": "markdown",
      "metadata": {
        "id": "UWgL8BGyhu9x"
      },
      "source": [
        "# Convolutional Neural Network to classify MATLAB bubble results\n",
        "\n",
        "To build, train and test the CNN we use keras with the tensorflow backend.\n",
        "Below we import the necessary modules."
      ]
    },
    {
      "cell_type": "code",
      "metadata": {
        "id": "TjQl_va0hu99"
      },
      "source": [
        "import numpy as np #numerical\n",
        "import pandas as pd #data analysis\n",
        "from sklearn.model_selection import train_test_split\n",
        "from skimage.transform import resize\n",
        "from tqdm import tqdm\n",
        "import matplotlib.pyplot as plt\n",
        "import random\n",
        "import scipy.io as sio\n",
        "from scipy import interpolate\n",
        "from scipy.interpolate import BSpline, make_interp_spline\n",
        "import sys\n",
        "%matplotlib inline\n",
        "import keras\n",
        "from keras.models import Sequential, load_model\n",
        "from keras.layers import Dense, Dropout, Flatten\n",
        "from keras.layers import Conv2D, MaxPooling2D\n",
        "from keras import backend as K\n",
        "from os.path import dirname, join as pjoin"
      ],
      "execution_count": 1,
      "outputs": []
    },
    {
      "cell_type": "code",
      "source": [
        "from google.colab import drive\n",
        "drive.mount('/content/drive');"
      ],
      "metadata": {
        "id": "NHTjLP7mzU7J",
        "colab": {
          "base_uri": "https://localhost:8080/"
        },
        "outputId": "343a8e97-e437-4010-ea10-531367410aaf"
      },
      "execution_count": 3,
      "outputs": [
        {
          "output_type": "stream",
          "name": "stdout",
          "text": [
            "Mounted at /content/drive\n"
          ]
        }
      ]
    },
    {
      "cell_type": "markdown",
      "metadata": {
        "id": "j6AE5_R5hu-C"
      },
      "source": [
        "Load dataset: vectors of control points in X, actions in y."
      ]
    },
    {
      "cell_type": "code",
      "metadata": {
        "id": "ima-_Vzvhu-C"
      },
      "source": [
        "mat = sio.loadmat('/content/drive/MyDrive/NN/NNtot')\n",
        "data = mat['results']\n",
        "X = np.reshape(np.vstack(data[:,0][:]),(len(data),12))\n",
        "y = np.arctan(np.vstack(data[:,3][:])) #normalized with arctan for normalization\n",
        "X = np.expand_dims(np.reshape(np.c_[np.zeros(len(y)),X,np.zeros(len(y))],(len(y),2,7)), axis=3) # add zeros for first X and last Y coordinates, reshape"
      ],
      "execution_count": 96,
      "outputs": []
    },
    {
      "cell_type": "code",
      "source": [
        "print(X.shape,y.shape)"
      ],
      "metadata": {
        "id": "gQ7KFPQc0M-D",
        "outputId": "af95779f-15e7-4dbe-dd37-e1a9a85c5e7c",
        "colab": {
          "base_uri": "https://localhost:8080/"
        }
      },
      "execution_count": 5,
      "outputs": [
        {
          "output_type": "stream",
          "name": "stdout",
          "text": [
            "(3501, 2, 7, 1) (3501, 1)\n"
          ]
        }
      ]
    },
    {
      "cell_type": "markdown",
      "metadata": {
        "id": "IocCrGachu-E"
      },
      "source": [
        "Divide dataset into training (80%), validation (10%) and test set (10%)\n",
        "\n"
      ]
    },
    {
      "cell_type": "code",
      "metadata": {
        "id": "4j-mfVmFhu-F"
      },
      "source": [
        "Ntot = len(X)\n",
        "tot_ind = np.arange(Ntot)\n",
        "random.shuffle(tot_ind)\n",
        "val_ind = tot_ind[int(Ntot*0.8):int(Ntot*0.9)]\n",
        "train_ind = tot_ind[0:int(Ntot*0.8)]\n",
        "test_ind = tot_ind[int(Ntot*0.9):]"
      ],
      "execution_count": 87,
      "outputs": []
    },
    {
      "cell_type": "code",
      "metadata": {
        "id": "UddwSwxyhu-F"
      },
      "source": [
        "X_train = X[train_ind]\n",
        "y_train = y[train_ind]\n",
        "X_val = X[val_ind]\n",
        "y_val = y[val_ind]\n",
        "X_test = X[test_ind]\n",
        "y_test = y[test_ind]"
      ],
      "execution_count": 88,
      "outputs": []
    },
    {
      "cell_type": "code",
      "source": [
        "X_train.shape"
      ],
      "metadata": {
        "colab": {
          "base_uri": "https://localhost:8080/"
        },
        "id": "LWAQzdVWL-AT",
        "outputId": "f6506f9e-e229-451d-d3b1-6d3d638f2119"
      },
      "execution_count": 89,
      "outputs": [
        {
          "output_type": "execute_result",
          "data": {
            "text/plain": [
              "(2800, 2, 7, 1)"
            ]
          },
          "metadata": {},
          "execution_count": 89
        }
      ]
    },
    {
      "cell_type": "markdown",
      "source": [
        "What is our data: show border spline-curve control points, domain, and corresponding action"
      ],
      "metadata": {
        "id": "24nAo3u1fpS9"
      }
    },
    {
      "cell_type": "code",
      "source": [
        "t = np.random.randint(len(X))\n",
        "plt.scatter(np.transpose(data[t,1]['Points'][0][0])[0],np.transpose(data[t,1]['Points'][0][0])[1])\n",
        "plt.scatter(X[t][0],X[t][1])\n",
        "plt.plot(X[t][0],X[t][1],'r')\n",
        "S = 'S='+str(y[t][0])\n",
        "plt.title(S);\n",
        "plt.show()"
      ],
      "metadata": {
        "id": "cfKc_2jiVUpf",
        "outputId": "fb1ddf81-7c41-42ca-b539-97e8e57f0563",
        "colab": {
          "base_uri": "https://localhost:8080/",
          "height": 452
        }
      },
      "execution_count": 17,
      "outputs": [
        {
          "output_type": "display_data",
          "data": {
            "text/plain": [
              "<Figure size 640x480 with 1 Axes>"
            ],
            "image/png": "[encoded data removed]"
          },
          "metadata": {}
        }
      ]
    },
    {
      "cell_type": "markdown",
      "metadata": {
        "id": "cxsgVwQ8hu-G"
      },
      "source": [
        "Build the CNN, compile and train/validate it"
      ]
    },
    {
      "cell_type": "code",
      "metadata": {
        "id": "XSVdhMqwhu-G"
      },
      "source": [
        "model = Sequential()\n",
        "model.add(Conv2D(2, (2, 2), activation='relu', input_shape=(2, 7, 1), padding='same'))\n",
        "model.add(Conv2D(4, (2, 2), activation='relu', padding='same'))\n",
        "model.add(Conv2D(8, (2, 2), activation='relu')) # going up\n",
        "model.add(Flatten())\n",
        "model.add(Dense(64, activation='relu')) #going down\n",
        "model.add(Dense(16, activation='relu'))\n",
        "model.add(Dense(4, activation='relu'))\n",
        "#model.add(Dropout(0.1)) #either very small, or absent\n",
        "model.add(Dense(1, activation='linear')) #linear for regression"
      ],
      "execution_count": 109,
      "outputs": []
    },
    {
      "cell_type": "code",
      "metadata": {
        "id": "ydIT0bwGhu-H"
      },
      "source": [
        "model.summary()"
      ],
      "execution_count": null,
      "outputs": []
    },
    {
      "cell_type": "code",
      "metadata": {
        "scrolled": true,
        "colab": {
          "base_uri": "https://localhost:8080/"
        },
        "id": "zJgMiL6Hhu-I",
        "outputId": "8c4b8c8e-d6bb-40c7-918f-bc9eb417a395"
      },
      "source": [
        "model.compile(loss=keras.losses.MeanSquaredError(),\n",
        "              optimizer=keras.optimizers.Adam(learning_rate=0.005))\n",
        "\n",
        "cnn_history = model.fit(X_train, y_train,\n",
        "                        batch_size=128,\n",
        "                        epochs=100,\n",
        "                        verbose=1,\n",
        "                        validation_data=(X_val, y_val))"
      ],
      "execution_count": 158,
      "outputs": [
        {
          "output_type": "stream",
          "name": "stdout",
          "text": [
            "Epoch 1/100\n",
            "22/22 [==============================] - 4s 17ms/step - loss: 0.1069 - val_loss: 0.5681\n",
            "Epoch 2/100\n",
            "22/22 [==============================] - 0s 8ms/step - loss: 0.0618 - val_loss: 0.5920\n",
            "Epoch 3/100\n",
            "22/22 [==============================] - 0s 9ms/step - loss: 0.0433 - val_loss: 0.5975\n",
            "Epoch 4/100\n",
            "22/22 [==============================] - 0s 8ms/step - loss: 0.0366 - val_loss: 0.5723\n",
            "Epoch 5/100\n",
            "22/22 [==============================] - 0s 9ms/step - loss: 0.0330 - val_loss: 0.5671\n",
            "Epoch 6/100\n",
            "22/22 [==============================] - 0s 6ms/step - loss: 0.0302 - val_loss: 0.5375\n",
            "Epoch 7/100\n",
            "22/22 [==============================] - 0s 6ms/step - loss: 0.0296 - val_loss: 0.5556\n",
            "Epoch 8/100\n",
            "22/22 [==============================] - 0s 5ms/step - loss: 0.0292 - val_loss: 0.5735\n",
            "Epoch 9/100\n",
            "22/22 [==============================] - 0s 6ms/step - loss: 0.0290 - val_loss: 0.5444\n",
            "Epoch 10/100\n",
            "22/22 [==============================] - 0s 6ms/step - loss: 0.0275 - val_loss: 0.5629\n",
            "Epoch 11/100\n",
            "22/22 [==============================] - 0s 6ms/step - loss: 0.0266 - val_loss: 0.5428\n",
            "Epoch 12/100\n",
            "22/22 [==============================] - 0s 6ms/step - loss: 0.0265 - val_loss: 0.5474\n",
            "Epoch 13/100\n",
            "22/22 [==============================] - 0s 5ms/step - loss: 0.0278 - val_loss: 0.5481\n",
            "Epoch 14/100\n",
            "22/22 [==============================] - 0s 6ms/step - loss: 0.0280 - val_loss: 0.5575\n",
            "Epoch 15/100\n",
            "22/22 [==============================] - 0s 6ms/step - loss: 0.0291 - val_loss: 0.5488\n",
            "Epoch 16/100\n",
            "22/22 [==============================] - 0s 6ms/step - loss: 0.0282 - val_loss: 0.5350\n",
            "Epoch 17/100\n",
            "22/22 [==============================] - 0s 6ms/step - loss: 0.0269 - val_loss: 0.5860\n",
            "Epoch 18/100\n",
            "22/22 [==============================] - 0s 6ms/step - loss: 0.0274 - val_loss: 0.5448\n",
            "Epoch 19/100\n",
            "22/22 [==============================] - 0s 5ms/step - loss: 0.0265 - val_loss: 0.5409\n",
            "Epoch 20/100\n",
            "22/22 [==============================] - 0s 6ms/step - loss: 0.0261 - val_loss: 0.5560\n",
            "Epoch 21/100\n",
            "22/22 [==============================] - 0s 5ms/step - loss: 0.0253 - val_loss: 0.5539\n",
            "Epoch 22/100\n",
            "22/22 [==============================] - 0s 6ms/step - loss: 0.0248 - val_loss: 0.5540\n",
            "Epoch 23/100\n",
            "22/22 [==============================] - 0s 5ms/step - loss: 0.0243 - val_loss: 0.5256\n",
            "Epoch 24/100\n",
            "22/22 [==============================] - 0s 5ms/step - loss: 0.0265 - val_loss: 0.5627\n",
            "Epoch 25/100\n",
            "22/22 [==============================] - 0s 6ms/step - loss: 0.0282 - val_loss: 0.5595\n",
            "Epoch 26/100\n",
            "22/22 [==============================] - 0s 6ms/step - loss: 0.0283 - val_loss: 0.6227\n",
            "Epoch 27/100\n",
            "22/22 [==============================] - 0s 6ms/step - loss: 0.0330 - val_loss: 0.6077\n",
            "Epoch 28/100\n",
            "22/22 [==============================] - 0s 5ms/step - loss: 0.0407 - val_loss: 0.5807\n",
            "Epoch 29/100\n",
            "22/22 [==============================] - 0s 5ms/step - loss: 0.0391 - val_loss: 0.5963\n",
            "Epoch 30/100\n",
            "22/22 [==============================] - 0s 5ms/step - loss: 0.0443 - val_loss: 0.5597\n",
            "Epoch 31/100\n",
            "22/22 [==============================] - 0s 5ms/step - loss: 0.0387 - val_loss: 0.6057\n",
            "Epoch 32/100\n",
            "22/22 [==============================] - 0s 5ms/step - loss: 0.0372 - val_loss: 0.6060\n",
            "Epoch 33/100\n",
            "22/22 [==============================] - 0s 6ms/step - loss: 0.0780 - val_loss: 0.7603\n",
            "Epoch 34/100\n",
            "22/22 [==============================] - 0s 6ms/step - loss: 0.1787 - val_loss: 0.5663\n",
            "Epoch 35/100\n",
            "22/22 [==============================] - 0s 6ms/step - loss: 0.1357 - val_loss: 0.5739\n",
            "Epoch 36/100\n",
            "22/22 [==============================] - 0s 5ms/step - loss: 0.0830 - val_loss: 0.6170\n",
            "Epoch 37/100\n",
            "22/22 [==============================] - 0s 5ms/step - loss: 0.0563 - val_loss: 0.6019\n",
            "Epoch 38/100\n",
            "22/22 [==============================] - 0s 6ms/step - loss: 0.0484 - val_loss: 0.5776\n",
            "Epoch 39/100\n",
            "22/22 [==============================] - 0s 6ms/step - loss: 0.0370 - val_loss: 0.5521\n",
            "Epoch 40/100\n",
            "22/22 [==============================] - 0s 6ms/step - loss: 0.0315 - val_loss: 0.5609\n",
            "Epoch 41/100\n",
            "22/22 [==============================] - 0s 6ms/step - loss: 0.0287 - val_loss: 0.5719\n",
            "Epoch 42/100\n",
            "22/22 [==============================] - 0s 6ms/step - loss: 0.0265 - val_loss: 0.5711\n",
            "Epoch 43/100\n",
            "22/22 [==============================] - 0s 5ms/step - loss: 0.0255 - val_loss: 0.5550\n",
            "Epoch 44/100\n",
            "22/22 [==============================] - 0s 6ms/step - loss: 0.0252 - val_loss: 0.5730\n",
            "Epoch 45/100\n",
            "22/22 [==============================] - 0s 6ms/step - loss: 0.0242 - val_loss: 0.5596\n",
            "Epoch 46/100\n",
            "22/22 [==============================] - 0s 6ms/step - loss: 0.0237 - val_loss: 0.5570\n",
            "Epoch 47/100\n",
            "22/22 [==============================] - 0s 5ms/step - loss: 0.0237 - val_loss: 0.5597\n",
            "Epoch 48/100\n",
            "22/22 [==============================] - 0s 6ms/step - loss: 0.0232 - val_loss: 0.5572\n",
            "Epoch 49/100\n",
            "22/22 [==============================] - 0s 6ms/step - loss: 0.0229 - val_loss: 0.5614\n",
            "Epoch 50/100\n",
            "22/22 [==============================] - 0s 9ms/step - loss: 0.0222 - val_loss: 0.5478\n",
            "Epoch 51/100\n",
            "22/22 [==============================] - 0s 8ms/step - loss: 0.0222 - val_loss: 0.5511\n",
            "Epoch 52/100\n",
            "22/22 [==============================] - 0s 9ms/step - loss: 0.0225 - val_loss: 0.5527\n",
            "Epoch 53/100\n",
            "22/22 [==============================] - 0s 9ms/step - loss: 0.0226 - val_loss: 0.5560\n",
            "Epoch 54/100\n",
            "22/22 [==============================] - 0s 9ms/step - loss: 0.0221 - val_loss: 0.5565\n",
            "Epoch 55/100\n",
            "22/22 [==============================] - 0s 8ms/step - loss: 0.0220 - val_loss: 0.5634\n",
            "Epoch 56/100\n",
            "22/22 [==============================] - 0s 9ms/step - loss: 0.0218 - val_loss: 0.5567\n",
            "Epoch 57/100\n",
            "22/22 [==============================] - 0s 8ms/step - loss: 0.0224 - val_loss: 0.5543\n",
            "Epoch 58/100\n",
            "22/22 [==============================] - 0s 8ms/step - loss: 0.0227 - val_loss: 0.5580\n",
            "Epoch 59/100\n",
            "22/22 [==============================] - 0s 8ms/step - loss: 0.0226 - val_loss: 0.5573\n",
            "Epoch 60/100\n",
            "22/22 [==============================] - 0s 9ms/step - loss: 0.0220 - val_loss: 0.5645\n",
            "Epoch 61/100\n",
            "22/22 [==============================] - 0s 7ms/step - loss: 0.0215 - val_loss: 0.5717\n",
            "Epoch 62/100\n",
            "22/22 [==============================] - 0s 8ms/step - loss: 0.0217 - val_loss: 0.5680\n",
            "Epoch 63/100\n",
            "22/22 [==============================] - 0s 8ms/step - loss: 0.0218 - val_loss: 0.5616\n",
            "Epoch 64/100\n",
            "22/22 [==============================] - 0s 9ms/step - loss: 0.0216 - val_loss: 0.5675\n",
            "Epoch 65/100\n",
            "22/22 [==============================] - 0s 9ms/step - loss: 0.0223 - val_loss: 0.5605\n",
            "Epoch 66/100\n",
            "22/22 [==============================] - 0s 9ms/step - loss: 0.0220 - val_loss: 0.5773\n",
            "Epoch 67/100\n",
            "22/22 [==============================] - 0s 9ms/step - loss: 0.0218 - val_loss: 0.5820\n",
            "Epoch 68/100\n",
            "22/22 [==============================] - 0s 9ms/step - loss: 0.0221 - val_loss: 0.5519\n",
            "Epoch 69/100\n",
            "22/22 [==============================] - 0s 8ms/step - loss: 0.0217 - val_loss: 0.5783\n",
            "Epoch 70/100\n",
            "22/22 [==============================] - 0s 8ms/step - loss: 0.0216 - val_loss: 0.5602\n",
            "Epoch 71/100\n",
            "22/22 [==============================] - 0s 8ms/step - loss: 0.0214 - val_loss: 0.5821\n",
            "Epoch 72/100\n",
            "22/22 [==============================] - 0s 8ms/step - loss: 0.0221 - val_loss: 0.5644\n",
            "Epoch 73/100\n",
            "22/22 [==============================] - 0s 8ms/step - loss: 0.0222 - val_loss: 0.5692\n",
            "Epoch 74/100\n",
            "22/22 [==============================] - 0s 9ms/step - loss: 0.0219 - val_loss: 0.5680\n",
            "Epoch 75/100\n",
            "22/22 [==============================] - 0s 8ms/step - loss: 0.0211 - val_loss: 0.5820\n",
            "Epoch 76/100\n",
            "22/22 [==============================] - 0s 8ms/step - loss: 0.0215 - val_loss: 0.5501\n",
            "Epoch 77/100\n",
            "22/22 [==============================] - 0s 8ms/step - loss: 0.0233 - val_loss: 0.5500\n",
            "Epoch 78/100\n",
            "22/22 [==============================] - 0s 7ms/step - loss: 0.0234 - val_loss: 0.5530\n",
            "Epoch 79/100\n",
            "22/22 [==============================] - 0s 8ms/step - loss: 0.0229 - val_loss: 0.5654\n",
            "Epoch 80/100\n",
            "22/22 [==============================] - 0s 8ms/step - loss: 0.0229 - val_loss: 0.5486\n",
            "Epoch 81/100\n",
            "22/22 [==============================] - 0s 8ms/step - loss: 0.0222 - val_loss: 0.5480\n",
            "Epoch 82/100\n",
            "22/22 [==============================] - 0s 9ms/step - loss: 0.0220 - val_loss: 0.5371\n",
            "Epoch 83/100\n",
            "22/22 [==============================] - 0s 8ms/step - loss: 0.0225 - val_loss: 0.5352\n",
            "Epoch 84/100\n",
            "22/22 [==============================] - 0s 6ms/step - loss: 0.0231 - val_loss: 0.5343\n",
            "Epoch 85/100\n",
            "22/22 [==============================] - 0s 6ms/step - loss: 0.0255 - val_loss: 0.5776\n",
            "Epoch 86/100\n",
            "22/22 [==============================] - 0s 5ms/step - loss: 0.0276 - val_loss: 0.5671\n",
            "Epoch 87/100\n",
            "22/22 [==============================] - 0s 6ms/step - loss: 0.0295 - val_loss: 0.5447\n",
            "Epoch 88/100\n",
            "22/22 [==============================] - 0s 6ms/step - loss: 0.0275 - val_loss: 0.5749\n",
            "Epoch 89/100\n",
            "22/22 [==============================] - 0s 5ms/step - loss: 0.0265 - val_loss: 0.5977\n",
            "Epoch 90/100\n",
            "22/22 [==============================] - 0s 6ms/step - loss: 0.0268 - val_loss: 0.5863\n",
            "Epoch 91/100\n",
            "22/22 [==============================] - 0s 5ms/step - loss: 0.0254 - val_loss: 0.5754\n",
            "Epoch 92/100\n",
            "22/22 [==============================] - 0s 6ms/step - loss: 0.0249 - val_loss: 0.5627\n",
            "Epoch 93/100\n",
            "22/22 [==============================] - 0s 6ms/step - loss: 0.0242 - val_loss: 0.5488\n",
            "Epoch 94/100\n",
            "22/22 [==============================] - 0s 6ms/step - loss: 0.0221 - val_loss: 0.5597\n",
            "Epoch 95/100\n",
            "22/22 [==============================] - 0s 6ms/step - loss: 0.0222 - val_loss: 0.5550\n",
            "Epoch 96/100\n",
            "22/22 [==============================] - 0s 6ms/step - loss: 0.0221 - val_loss: 0.5547\n",
            "Epoch 97/100\n",
            "22/22 [==============================] - 0s 6ms/step - loss: 0.0215 - val_loss: 0.5788\n",
            "Epoch 98/100\n",
            "22/22 [==============================] - 0s 6ms/step - loss: 0.0222 - val_loss: 0.5790\n",
            "Epoch 99/100\n",
            "22/22 [==============================] - 0s 5ms/step - loss: 0.0216 - val_loss: 0.5584\n",
            "Epoch 100/100\n",
            "22/22 [==============================] - 0s 6ms/step - loss: 0.0224 - val_loss: 0.5449\n"
          ]
        }
      ]
    },
    {
      "cell_type": "code",
      "source": [
        "plt.plot(cnn_history.history['loss'])\n",
        "plt.title('model loss')\n",
        "plt.ylabel('loss')\n",
        "plt.xlabel('epoch')\n",
        "plt.legend(['train'], loc='upper left')\n",
        "plt.show()"
      ],
      "metadata": {
        "colab": {
          "base_uri": "https://localhost:8080/",
          "height": 472
        },
        "id": "F8x9dida56Du",
        "outputId": "4b60279a-d84b-44eb-9bdd-6ff8367d728a"
      },
      "execution_count": 159,
      "outputs": [
        {
          "output_type": "display_data",
          "data": {
            "text/plain": [
              "<Figure size 640x480 with 1 Axes>"
            ],
            "image/png": "[encoded data removed]"
          },
          "metadata": {}
        }
      ]
    },
    {
      "cell_type": "code",
      "metadata": {
        "colab": {
          "base_uri": "https://localhost:8080/"
        },
        "id": "1pxXAFTlhu-J",
        "outputId": "3308e80f-dcdb-473a-ec9f-8a5578f55168"
      },
      "source": [
        "score = model.evaluate(X_test, y_test, verbose=0)\n",
        "print('Test accuracy:', score)"
      ],
      "execution_count": 160,
      "outputs": [
        {
          "output_type": "stream",
          "name": "stdout",
          "text": [
            "Test accuracy: 0.8613921999931335\n"
          ]
        }
      ]
    },
    {
      "cell_type": "markdown",
      "source": [
        "Test with input from MATLAB"
      ],
      "metadata": {
        "id": "K-k9cJ8TOEMp"
      }
    },
    {
      "cell_type": "code",
      "source": [
        "Xn=np.array([[  0.,0.155291427061512, 0.300000000000000, 0.424264068711929, 0.519615242270663, 0.579555495773441, 0.600000000000000],\n",
        "[   0.700000000000000, 0.676148078402348, 0.606217782649107, 0.494974746830583, 0.350000000000000, 0.181173331571764, 0.]])\n",
        "Xn=np.expand_dims(Xn, axis=2)\n",
        "Xn=np.expand_dims(Xn, axis=0)"
      ],
      "metadata": {
        "id": "qvwbkuEGKa4Q"
      },
      "execution_count": 145,
      "outputs": []
    },
    {
      "cell_type": "code",
      "source": [
        "print('The predicted action is S=',np.tan(model.predict(Xn,verbose=0))[0][0])"
      ],
      "metadata": {
        "colab": {
          "base_uri": "https://localhost:8080/"
        },
        "id": "z6uvsC6LJ3cb",
        "outputId": "c474ea49-1b08-40d6-d864-ff4cd21e20af"
      },
      "execution_count": 152,
      "outputs": [
        {
          "output_type": "stream",
          "name": "stdout",
          "text": [
            "The predicted action is S= -1.4596632\n"
          ]
        }
      ]
    }
  ]
}